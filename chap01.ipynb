{
 "metadata": {
  "language_info": {
   "codemirror_mode": {
    "name": "ipython",
    "version": 3
   },
   "file_extension": ".py",
   "mimetype": "text/x-python",
   "name": "python",
   "nbconvert_exporter": "python",
   "pygments_lexer": "ipython3",
   "version": "3.6.9-final"
  },
  "orig_nbformat": 2,
  "kernelspec": {
   "name": "python36964bitbasicf4fe4f4e82b4404eaa9697eeeae6db18",
   "display_name": "Python 3.6.9 64-bit ('basic')"
  }
 },
 "nbformat": 4,
 "nbformat_minor": 2,
 "cells": [
  {
   "source": [
    "# Chapter 1\n",
    "\n",
    "This Jupyter notebook contains discussions and solutions for exercises for chapter 1.\n"
   ],
   "cell_type": "markdown",
   "metadata": {}
  },
  {
   "cell_type": "code",
   "execution_count": null,
   "metadata": {},
   "outputs": [],
   "source": [
    "from chap01 import *"
   ]
  },
  {
   "source": [
    "### Problem 1\n",
    "\n",
    "Some interesting notes on [Fano factor] and [Poisson process].\n",
    "\n",
    "One can see **Fano factor** just as a property of a spike times histogram, while **coefficient of variation** as a property of interspike intervals statistics\n",
    "\n",
    "[Fano factor]: http://thirdorderscientist.org/homoclinic-orbit/2014/9/16/counting-fish-mdash-point-processes-the-coefficient-of-variation-and-the-fano-factor#fn2\n",
    "[Poisson process]: https://thirdorderscientist.org/homoclinic-orbit/2013/5/27/being-as-random-as-possible-mdash-the-poisson-process\n"
   ],
   "cell_type": "markdown",
   "metadata": {}
  },
  {
   "source": [
    "exercise1()"
   ],
   "cell_type": "code",
   "metadata": {},
   "execution_count": null,
   "outputs": []
  },
  {
   "source": [
    "### Problem 2"
   ],
   "cell_type": "markdown",
   "metadata": {}
  },
  {
   "cell_type": "code",
   "execution_count": null,
   "metadata": {},
   "outputs": [],
   "source": [
    "exercise2()"
   ]
  },
  {
   "source": [
    "### Problem 3"
   ],
   "cell_type": "markdown",
   "metadata": {}
  },
  {
   "cell_type": "code",
   "execution_count": null,
   "metadata": {},
   "outputs": [],
   "source": [
    "exercise3()"
   ]
  },
  {
   "source": [
    "### Problem 4"
   ],
   "cell_type": "markdown",
   "metadata": {}
  },
  {
   "cell_type": "code",
   "execution_count": null,
   "metadata": {},
   "outputs": [],
   "source": [
    "exercise4()"
   ]
  },
  {
   "source": [
    "### Problem 5\n",
    "\n",
    "There is no paradox, the probability of this happening is given by\n",
    "the number of states complying the condition, that all the spikes are in the first 1% of bins, divided by the total number of possible states. If we denote the number of bins in 1% as $M$ (i.e. total number of bins is $100*M$) and the total number of spikes $N$, the chance of that specific situation occuring is\n",
    "\n",
    "\\begin{equation}\n",
    "    \\frac{\\binom MN}{\\binom {100M}N} = \n",
    "    \\frac{M\\cdot(M-1)\\cdots(M-N+1)}{100M\\cdot(100M-1)\\cdots(100M-N+1)}\n",
    "\\end{equation}\n",
    "\n",
    "So for instance having just one spike, the expected probability of seeing it in the first 1% is 1%. Having two spikes the chance is\n",
    "\\begin{equation}\n",
    "    \\frac{1}{100}\\cdot\\frac{1}{100+\\frac{99}{M-1}} < 10^{-4}\n",
    "\\end{equation}\n",
    "From this we can also see another way to explain the paradox. As spikes are generated in a Poisson process, each of them is generated separately. The probability of a single spike in first 1% of the time interval is $10^{-2}$. As we said they are generated independently, therefore the probabilities are multiplied and for N spikes we get upper limit of the chance $\\left(10^{-2}\\right)^N = 10^{-2N}$. For N large, the chance is almost zero"
   ],
   "cell_type": "markdown",
   "metadata": {}
  },
  {
   "source": [
    "### Problem 6"
   ],
   "cell_type": "markdown",
   "metadata": {}
  },
  {
   "source": [
    "### Problem 7"
   ],
   "cell_type": "markdown",
   "metadata": {}
  },
  {
   "source": [
    "### Problem 8"
   ],
   "cell_type": "markdown",
   "metadata": {}
  },
  {
   "source": [
    "### Problem 9"
   ],
   "cell_type": "markdown",
   "metadata": {}
  },
  {
   "source": [
    "### Problem 10"
   ],
   "cell_type": "markdown",
   "metadata": {}
  },
  {
   "source": [
    "signal processing question - see appendix A of chapter 1, direct Fourier transform leads to Peridogram - problematic for noise-like signal analysis\n",
    "\n",
    "## TODO\n",
    "* discussion on the result in exercise ch1p10\n",
    "* discussion of the results in exercise ch1p9 move here?"
   ],
   "cell_type": "markdown",
   "metadata": {}
  }
 ]
}